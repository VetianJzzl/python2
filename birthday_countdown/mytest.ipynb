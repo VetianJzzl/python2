{
 "cells": [
  {
   "cell_type": "code",
   "execution_count": 1,
   "metadata": {},
   "outputs": [],
   "source": [
    "import datetime as dt\n",
    "import time"
   ]
  },
  {
   "cell_type": "code",
   "execution_count": 2,
   "metadata": {},
   "outputs": [
    {
     "name": "stdout",
     "output_type": "stream",
     "text": [
      "Welcome to your birthday countdown\n"
     ]
    }
   ],
   "source": [
    "print('Welcome to your birthday countdown')"
   ]
  },
  {
   "cell_type": "code",
   "execution_count": 3,
   "metadata": {},
   "outputs": [],
   "source": [
    "year = int(input('Which year were you born in?\\n'))"
   ]
  },
  {
   "cell_type": "code",
   "execution_count": 4,
   "metadata": {},
   "outputs": [
    {
     "name": "stdout",
     "output_type": "stream",
     "text": [
      "2001\n"
     ]
    }
   ],
   "source": [
    "print(year)"
   ]
  },
  {
   "cell_type": "code",
   "execution_count": null,
   "metadata": {},
   "outputs": [],
   "source": [
    "import datetime as dt\n",
    "import time\n",
    "\n",
    "print('Welcome to your birthday countdown')\n",
    "\n",
    "year = int(input('Which year were you born in?\\n'))\n",
    "month = int(input('Which month (1 for Jan, 2 for Feb, and so on)?\\n'))\n",
    "day = int(input('Which day in that month?\\n'))\n",
    "\n",
    "date_birth = dt.datetime(year, month, day)\n",
    "\n",
    "weekday_names = ['Monday', 'Tuesday', 'Wednesday', 'Thursday', 'Friday', 'Saturday', 'Sunday']\n",
    "weekday_num = date_birth.weekday()\n",
    "print(weekday_num)\n",
    "print('You may have forgotten which day of the week it was ...')\n",
    "print('But I can tell you ... it was a ...', end = ' ')\n",
    "print(weekday_names[weekday_num])\n",
    "current_time = dt.datetime.now()\n",
    "thisyear = current_time.year\n",
    "thisyear_bday = dt.datetime(thisyear, month, day)\n",
    "\n",
    "if thisyear_bday > current_time:\n",
    "    next_bday = thisyear_bday\n",
    "else:\n",
    "    next_bday = dt.datetime(thisyear+1, month, day)\n",
    "    \n",
    "print('Your next birthday will be on ...', end = ' ')\n",
    "print(next_bday)\n",
    "print()\n",
    "print('That will be a ...', end = ' ')\n",
    "weekday_num = next_bday.weekday()\n",
    "print(weekday_names[weekday_num])\n",
    "print()\n",
    "print()\n",
    "\n",
    "dd = next_bday - current_time\n",
    "\n",
    "days_left = dd.days\n",
    "total_seconds_left = dd.seconds\n",
    "\n",
    "# print(type(dd))\n",
    "\n",
    "# We will convert seconds to HRS, MIN, SEC\n",
    "seconds_left = total_seconds_left % 60\n",
    "total_mins_left = total_seconds_left//60\n",
    "hrs_left = total_mins_left//60\n",
    "minutes_left = total_mins_left % 60\n",
    "\n",
    "\n",
    "total_mins_left, seconds_left  = divmod(total_seconds_left, 60)\n",
    "hrs_left, minutes_left  = divmod(total_mins_left, 60)\n",
    "\n",
    "\n"
   ]
  }
 ],
 "metadata": {
  "kernelspec": {
   "display_name": "Python 3",
   "language": "python",
   "name": "python3"
  },
  "language_info": {
   "codemirror_mode": {
    "name": "ipython",
    "version": 3
   },
   "file_extension": ".py",
   "mimetype": "text/x-python",
   "name": "python",
   "nbconvert_exporter": "python",
   "pygments_lexer": "ipython3",
   "version": "3.7.3"
  }
 },
 "nbformat": 4,
 "nbformat_minor": 2
}
