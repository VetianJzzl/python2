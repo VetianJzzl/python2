{
 "cells": [
  {
   "cell_type": "code",
   "execution_count": 1,
   "metadata": {},
   "outputs": [],
   "source": [
    "import datetime as dt\n",
    "import time"
   ]
  },
  {
   "cell_type": "code",
   "execution_count": 3,
   "metadata": {},
   "outputs": [
    {
     "name": "stdout",
     "output_type": "stream",
     "text": [
      "2001\n"
     ]
    }
   ],
   "source": [
    "year = int(input('Which year were you born in?\\n'))\n",
    "print(year)"
   ]
  },
  {
   "cell_type": "code",
   "execution_count": 10,
   "metadata": {},
   "outputs": [
    {
     "name": "stdout",
     "output_type": "stream",
     "text": [
      "Requirement already satisfied: tk in /Users/vihaan/Library/Python/3.7/lib/python/site-packages (0.1.0)\n",
      "\u001b[33mYou are using pip version 19.0.3, however version 24.0 is available.\n",
      "You should consider upgrading via the 'pip install --upgrade pip' command.\u001b[0m\n"
     ]
    }
   ],
   "source": [
    "! pip3 install tk"
   ]
  },
  {
   "cell_type": "code",
   "execution_count": 8,
   "metadata": {},
   "outputs": [
    {
     "ename": "ModuleNotFoundError",
     "evalue": "No module named '_tkinter'",
     "output_type": "error",
     "traceback": [
      "\u001b[0;31m---------------------------------------------------------------------------\u001b[0m",
      "\u001b[0;31mModuleNotFoundError\u001b[0m                       Traceback (most recent call last)",
      "\u001b[0;32m/var/folders/n7/gryzmmws04g4ym5lyf970l1m0000gq/T/ipykernel_8847/385921064.py\u001b[0m in \u001b[0;36m<module>\u001b[0;34m\u001b[0m\n\u001b[0;32m----> 1\u001b[0;31m \u001b[0;32mimport\u001b[0m \u001b[0mtkinter\u001b[0m\u001b[0;34m\u001b[0m\u001b[0;34m\u001b[0m\u001b[0m\n\u001b[0m",
      "\u001b[0;32m/Library/Developer/CommandLineTools/Library/Frameworks/Python3.framework/Versions/3.7/lib/python3.7/tkinter/__init__.py\u001b[0m in \u001b[0;36m<module>\u001b[0;34m\u001b[0m\n\u001b[1;32m     34\u001b[0m \u001b[0;32mimport\u001b[0m \u001b[0msys\u001b[0m\u001b[0;34m\u001b[0m\u001b[0;34m\u001b[0m\u001b[0m\n\u001b[1;32m     35\u001b[0m \u001b[0;34m\u001b[0m\u001b[0m\n\u001b[0;32m---> 36\u001b[0;31m \u001b[0;32mimport\u001b[0m \u001b[0m_tkinter\u001b[0m \u001b[0;31m# If this fails your Python may not be configured for Tk\u001b[0m\u001b[0;34m\u001b[0m\u001b[0;34m\u001b[0m\u001b[0m\n\u001b[0m\u001b[1;32m     37\u001b[0m \u001b[0mTclError\u001b[0m \u001b[0;34m=\u001b[0m \u001b[0m_tkinter\u001b[0m\u001b[0;34m.\u001b[0m\u001b[0mTclError\u001b[0m\u001b[0;34m\u001b[0m\u001b[0;34m\u001b[0m\u001b[0m\n\u001b[1;32m     38\u001b[0m \u001b[0;32mfrom\u001b[0m \u001b[0mtkinter\u001b[0m\u001b[0;34m.\u001b[0m\u001b[0mconstants\u001b[0m \u001b[0;32mimport\u001b[0m \u001b[0;34m*\u001b[0m\u001b[0;34m\u001b[0m\u001b[0;34m\u001b[0m\u001b[0m\n",
      "\u001b[0;31mModuleNotFoundError\u001b[0m: No module named '_tkinter'"
     ]
    }
   ],
   "source": [
    "import tkinter"
   ]
  },
  {
   "cell_type": "code",
   "execution_count": 5,
   "metadata": {},
   "outputs": [
    {
     "name": "stdout",
     "output_type": "stream",
     "text": [
      "Defaulting to user installation because normal site-packages is not writeable\n",
      "Requirement already satisfied: ipyturtle3 in /Users/vihaan/Library/Python/3.7/lib/python/site-packages (0.1.4)\n",
      "Collecting tk\n",
      "  Downloading tk-0.1.0-py3-none-any.whl (3.9 kB)\n",
      "Requirement already satisfied: ipycanvas in /Users/vihaan/Library/Python/3.7/lib/python/site-packages (from ipyturtle3) (0.13.3)\n",
      "Requirement already satisfied: webcolors in /Users/vihaan/Library/Python/3.7/lib/python/site-packages (from ipyturtle3) (1.13)\n",
      "Requirement already satisfied: pillow>=6.0 in /usr/local/lib/python3.7/site-packages (from ipycanvas->ipyturtle3) (7.2.0)\n",
      "Requirement already satisfied: numpy in /usr/local/lib/python3.7/site-packages (from ipycanvas->ipyturtle3) (1.18.3)\n",
      "Requirement already satisfied: ipywidgets<9,>=7.6.0 in /Users/vihaan/Library/Python/3.7/lib/python/site-packages (from ipycanvas->ipyturtle3) (8.1.5)\n",
      "Requirement already satisfied: comm>=0.1.3 in /Users/vihaan/Library/Python/3.7/lib/python/site-packages (from ipywidgets<9,>=7.6.0->ipycanvas->ipyturtle3) (0.1.4)\n",
      "Requirement already satisfied: widgetsnbextension~=4.0.12 in /Users/vihaan/Library/Python/3.7/lib/python/site-packages (from ipywidgets<9,>=7.6.0->ipycanvas->ipyturtle3) (4.0.13)\n",
      "Requirement already satisfied: ipython>=6.1.0 in /Users/vihaan/Library/Python/3.7/lib/python/site-packages (from ipywidgets<9,>=7.6.0->ipycanvas->ipyturtle3) (7.34.0)\n",
      "Requirement already satisfied: traitlets>=4.3.1 in /Users/vihaan/Library/Python/3.7/lib/python/site-packages (from ipywidgets<9,>=7.6.0->ipycanvas->ipyturtle3) (5.9.0)\n",
      "Requirement already satisfied: jupyterlab-widgets~=3.0.12 in /Users/vihaan/Library/Python/3.7/lib/python/site-packages (from ipywidgets<9,>=7.6.0->ipycanvas->ipyturtle3) (3.0.13)\n",
      "Requirement already satisfied: setuptools>=18.5 in /usr/local/lib/python3.7/site-packages (from ipython>=6.1.0->ipywidgets<9,>=7.6.0->ipycanvas->ipyturtle3) (46.0.0)\n",
      "Requirement already satisfied: backcall in /Users/vihaan/Library/Python/3.7/lib/python/site-packages (from ipython>=6.1.0->ipywidgets<9,>=7.6.0->ipycanvas->ipyturtle3) (0.2.0)\n",
      "Requirement already satisfied: pygments in /Users/vihaan/Library/Python/3.7/lib/python/site-packages (from ipython>=6.1.0->ipywidgets<9,>=7.6.0->ipycanvas->ipyturtle3) (2.17.2)\n",
      "Requirement already satisfied: decorator in /Users/vihaan/Library/Python/3.7/lib/python/site-packages (from ipython>=6.1.0->ipywidgets<9,>=7.6.0->ipycanvas->ipyturtle3) (5.1.1)\n",
      "Requirement already satisfied: appnope; sys_platform == \"darwin\" in /Users/vihaan/Library/Python/3.7/lib/python/site-packages (from ipython>=6.1.0->ipywidgets<9,>=7.6.0->ipycanvas->ipyturtle3) (0.1.4)\n",
      "Requirement already satisfied: matplotlib-inline in /Users/vihaan/Library/Python/3.7/lib/python/site-packages (from ipython>=6.1.0->ipywidgets<9,>=7.6.0->ipycanvas->ipyturtle3) (0.1.6)\n",
      "Requirement already satisfied: prompt-toolkit!=3.0.0,!=3.0.1,<3.1.0,>=2.0.0 in /Users/vihaan/Library/Python/3.7/lib/python/site-packages (from ipython>=6.1.0->ipywidgets<9,>=7.6.0->ipycanvas->ipyturtle3) (3.0.48)\n",
      "Requirement already satisfied: jedi>=0.16 in /Users/vihaan/Library/Python/3.7/lib/python/site-packages (from ipython>=6.1.0->ipywidgets<9,>=7.6.0->ipycanvas->ipyturtle3) (0.19.2)\n",
      "Requirement already satisfied: pexpect>4.3; sys_platform != \"win32\" in /Users/vihaan/Library/Python/3.7/lib/python/site-packages (from ipython>=6.1.0->ipywidgets<9,>=7.6.0->ipycanvas->ipyturtle3) (4.9.0)\n",
      "Requirement already satisfied: pickleshare in /Users/vihaan/Library/Python/3.7/lib/python/site-packages (from ipython>=6.1.0->ipywidgets<9,>=7.6.0->ipycanvas->ipyturtle3) (0.7.5)\n",
      "Requirement already satisfied: wcwidth in /Users/vihaan/Library/Python/3.7/lib/python/site-packages (from prompt-toolkit!=3.0.0,!=3.0.1,<3.1.0,>=2.0.0->ipython>=6.1.0->ipywidgets<9,>=7.6.0->ipycanvas->ipyturtle3) (0.2.13)\n",
      "Requirement already satisfied: parso<0.9.0,>=0.8.4 in /Users/vihaan/Library/Python/3.7/lib/python/site-packages (from jedi>=0.16->ipython>=6.1.0->ipywidgets<9,>=7.6.0->ipycanvas->ipyturtle3) (0.8.4)\n",
      "Requirement already satisfied: ptyprocess>=0.5 in /Users/vihaan/Library/Python/3.7/lib/python/site-packages (from pexpect>4.3; sys_platform != \"win32\"->ipython>=6.1.0->ipywidgets<9,>=7.6.0->ipycanvas->ipyturtle3) (0.7.0)\n",
      "Installing collected packages: tk\n",
      "Successfully installed tk-0.1.0\n",
      "\u001b[33mWARNING: You are using pip version 20.2.3; however, version 24.0 is available.\n",
      "You should consider upgrading via the '/usr/local/opt/python/bin/python3.7 -m pip install --upgrade pip' command.\u001b[0m\n"
     ]
    }
   ],
   "source": [
    "! pip install ipyturtle3 tk"
   ]
  },
  {
   "cell_type": "code",
   "execution_count": 6,
   "metadata": {},
   "outputs": [
    {
     "ename": "ModuleNotFoundError",
     "evalue": "No module named '_tkinter'",
     "output_type": "error",
     "traceback": [
      "\u001b[0;31m---------------------------------------------------------------------------\u001b[0m",
      "\u001b[0;31mModuleNotFoundError\u001b[0m                       Traceback (most recent call last)",
      "\u001b[0;32m/var/folders/n7/gryzmmws04g4ym5lyf970l1m0000gq/T/ipykernel_8847/2800274667.py\u001b[0m in \u001b[0;36m<module>\u001b[0;34m\u001b[0m\n\u001b[0;32m----> 1\u001b[0;31m \u001b[0;32mimport\u001b[0m \u001b[0mipyturtle3\u001b[0m \u001b[0;32mas\u001b[0m \u001b[0mturtle\u001b[0m\u001b[0;34m\u001b[0m\u001b[0;34m\u001b[0m\u001b[0m\n\u001b[0m\u001b[1;32m      2\u001b[0m \u001b[0;32mfrom\u001b[0m \u001b[0mipyturtle3\u001b[0m \u001b[0;32mimport\u001b[0m \u001b[0mhold_canvas\u001b[0m\u001b[0;34m\u001b[0m\u001b[0;34m\u001b[0m\u001b[0m\n\u001b[1;32m      3\u001b[0m \u001b[0mmyCanvas\u001b[0m\u001b[0;34m=\u001b[0m\u001b[0mturtle\u001b[0m\u001b[0;34m.\u001b[0m\u001b[0mCanvas\u001b[0m\u001b[0;34m(\u001b[0m\u001b[0mwidth\u001b[0m\u001b[0;34m=\u001b[0m\u001b[0;36m500\u001b[0m\u001b[0;34m,\u001b[0m\u001b[0mheight\u001b[0m\u001b[0;34m=\u001b[0m\u001b[0;36m250\u001b[0m\u001b[0;34m)\u001b[0m\u001b[0;34m\u001b[0m\u001b[0;34m\u001b[0m\u001b[0m\n\u001b[1;32m      4\u001b[0m \u001b[0mdisplay\u001b[0m\u001b[0;34m(\u001b[0m\u001b[0mmyCanvas\u001b[0m\u001b[0;34m)\u001b[0m\u001b[0;34m\u001b[0m\u001b[0;34m\u001b[0m\u001b[0m\n",
      "\u001b[0;32m~/Library/Python/3.7/lib/python/site-packages/ipyturtle3/__init__.py\u001b[0m in \u001b[0;36m<module>\u001b[0;34m\u001b[0m\n\u001b[1;32m     10\u001b[0m \u001b[0mThis\u001b[0m \u001b[0mwas\u001b[0m \u001b[0mdeveloped\u001b[0m \u001b[0mto\u001b[0m \u001b[0msolve\u001b[0m \u001b[0mthis\u001b[0m\u001b[0;34m.\u001b[0m\u001b[0;34m\u001b[0m\u001b[0;34m\u001b[0m\u001b[0m\n\u001b[1;32m     11\u001b[0m \"\"\"\n\u001b[0;32m---> 12\u001b[0;31m \u001b[0;32mfrom\u001b[0m \u001b[0;34m.\u001b[0m\u001b[0mipyturtle3\u001b[0m \u001b[0;32mimport\u001b[0m \u001b[0mTurtle\u001b[0m\u001b[0;34m,\u001b[0m \u001b[0mCanvas\u001b[0m\u001b[0;34m,\u001b[0m \u001b[0mTurtleScreen\u001b[0m\u001b[0;34m,\u001b[0m\u001b[0mhold_canvas\u001b[0m\u001b[0;34m,\u001b[0m \u001b[0mShape\u001b[0m\u001b[0;34m\u001b[0m\u001b[0;34m\u001b[0m\u001b[0m\n\u001b[0m\u001b[1;32m     13\u001b[0m \u001b[0;34m\u001b[0m\u001b[0m\n\u001b[1;32m     14\u001b[0m \u001b[0m__version__\u001b[0m \u001b[0;34m=\u001b[0m \u001b[0;34m\"0.1.4\"\u001b[0m\u001b[0;34m\u001b[0m\u001b[0;34m\u001b[0m\u001b[0m\n",
      "\u001b[0;32m~/Library/Python/3.7/lib/python/site-packages/ipyturtle3/ipyturtle3.py\u001b[0m in \u001b[0;36m<module>\u001b[0;34m\u001b[0m\n\u001b[1;32m     22\u001b[0m \u001b[0;34m\u001b[0m\u001b[0m\n\u001b[1;32m     23\u001b[0m \u001b[0;32mfrom\u001b[0m \u001b[0mcmath\u001b[0m \u001b[0;32mimport\u001b[0m \u001b[0mnan\u001b[0m\u001b[0;34m\u001b[0m\u001b[0;34m\u001b[0m\u001b[0m\n\u001b[0;32m---> 24\u001b[0;31m \u001b[0;32mimport\u001b[0m \u001b[0mturtle\u001b[0m\u001b[0;34m\u001b[0m\u001b[0;34m\u001b[0m\u001b[0m\n\u001b[0m\u001b[1;32m     25\u001b[0m \u001b[0;32mimport\u001b[0m \u001b[0mtime\u001b[0m\u001b[0;34m\u001b[0m\u001b[0;34m\u001b[0m\u001b[0m\n\u001b[1;32m     26\u001b[0m \u001b[0;32mimport\u001b[0m \u001b[0msys\u001b[0m\u001b[0;34m\u001b[0m\u001b[0;34m\u001b[0m\u001b[0m\n",
      "\u001b[0;32m/Library/Developer/CommandLineTools/Library/Frameworks/Python3.framework/Versions/3.7/lib/python3.7/turtle.py\u001b[0m in \u001b[0;36m<module>\u001b[0;34m\u001b[0m\n\u001b[1;32m    105\u001b[0m \u001b[0;31m# print(_ver)\u001b[0m\u001b[0;34m\u001b[0m\u001b[0;34m\u001b[0m\u001b[0;34m\u001b[0m\u001b[0m\n\u001b[1;32m    106\u001b[0m \u001b[0;34m\u001b[0m\u001b[0m\n\u001b[0;32m--> 107\u001b[0;31m \u001b[0;32mimport\u001b[0m \u001b[0mtkinter\u001b[0m \u001b[0;32mas\u001b[0m \u001b[0mTK\u001b[0m\u001b[0;34m\u001b[0m\u001b[0;34m\u001b[0m\u001b[0m\n\u001b[0m\u001b[1;32m    108\u001b[0m \u001b[0;32mimport\u001b[0m \u001b[0mtypes\u001b[0m\u001b[0;34m\u001b[0m\u001b[0;34m\u001b[0m\u001b[0m\n\u001b[1;32m    109\u001b[0m \u001b[0;32mimport\u001b[0m \u001b[0mmath\u001b[0m\u001b[0;34m\u001b[0m\u001b[0;34m\u001b[0m\u001b[0m\n",
      "\u001b[0;32m/Library/Developer/CommandLineTools/Library/Frameworks/Python3.framework/Versions/3.7/lib/python3.7/tkinter/__init__.py\u001b[0m in \u001b[0;36m<module>\u001b[0;34m\u001b[0m\n\u001b[1;32m     34\u001b[0m \u001b[0;32mimport\u001b[0m \u001b[0msys\u001b[0m\u001b[0;34m\u001b[0m\u001b[0;34m\u001b[0m\u001b[0m\n\u001b[1;32m     35\u001b[0m \u001b[0;34m\u001b[0m\u001b[0m\n\u001b[0;32m---> 36\u001b[0;31m \u001b[0;32mimport\u001b[0m \u001b[0m_tkinter\u001b[0m \u001b[0;31m# If this fails your Python may not be configured for Tk\u001b[0m\u001b[0;34m\u001b[0m\u001b[0;34m\u001b[0m\u001b[0m\n\u001b[0m\u001b[1;32m     37\u001b[0m \u001b[0mTclError\u001b[0m \u001b[0;34m=\u001b[0m \u001b[0m_tkinter\u001b[0m\u001b[0;34m.\u001b[0m\u001b[0mTclError\u001b[0m\u001b[0;34m\u001b[0m\u001b[0;34m\u001b[0m\u001b[0m\n\u001b[1;32m     38\u001b[0m \u001b[0;32mfrom\u001b[0m \u001b[0mtkinter\u001b[0m\u001b[0;34m.\u001b[0m\u001b[0mconstants\u001b[0m \u001b[0;32mimport\u001b[0m \u001b[0;34m*\u001b[0m\u001b[0;34m\u001b[0m\u001b[0;34m\u001b[0m\u001b[0m\n",
      "\u001b[0;31mModuleNotFoundError\u001b[0m: No module named '_tkinter'"
     ]
    }
   ],
   "source": [
    "import ipyturtle3 as turtle\n",
    "from ipyturtle3 import hold_canvas\n",
    "myCanvas=turtle.Canvas(width=500,height=250)\n",
    "display(myCanvas)"
   ]
  }
 ],
 "metadata": {
  "kernelspec": {
   "display_name": "Python 3",
   "language": "python",
   "name": "python3"
  },
  "language_info": {
   "codemirror_mode": {
    "name": "ipython",
    "version": 3
   },
   "file_extension": ".py",
   "mimetype": "text/x-python",
   "name": "python",
   "nbconvert_exporter": "python",
   "pygments_lexer": "ipython3",
   "version": "3.7.3"
  }
 },
 "nbformat": 4,
 "nbformat_minor": 2
}
